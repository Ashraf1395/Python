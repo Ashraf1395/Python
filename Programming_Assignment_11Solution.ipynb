{
  "cells": [
    {
      "cell_type": "markdown",
      "id": "53c7e882",
      "metadata": {
        "id": "53c7e882"
      },
      "source": [
        "# Python Basic Programming Assignment 11\n",
        "--------------------"
      ]
    },
    {
      "cell_type": "markdown",
      "id": "051da140",
      "metadata": {
        "id": "051da140"
      },
      "source": [
        "### 1. Write a Python program to find words which are greater than given length k?"
      ]
    },
    {
      "cell_type": "code",
      "execution_count": 1,
      "id": "7d34576a",
      "metadata": {
        "id": "7d34576a"
      },
      "outputs": [],
      "source": [
        "def task1(list_of_words: list, k: int):\n",
        "    output = []\n",
        "    for i in list_of_words:\n",
        "        if len(i) > k:\n",
        "            output.append(i)\n",
        "            \n",
        "    return output"
      ]
    },
    {
      "cell_type": "code",
      "execution_count": 2,
      "id": "47e753b4",
      "metadata": {
        "id": "47e753b4",
        "outputId": "6412d517-f160-4c33-9f98-4c34eff6d78d",
        "colab": {
          "base_uri": "https://localhost:8080/"
        }
      },
      "outputs": [
        {
          "output_type": "execute_result",
          "data": {
            "text/plain": [
              "['bananana', 'almond']"
            ]
          },
          "metadata": {},
          "execution_count": 2
        }
      ],
      "source": [
        "list_of_words = ['Apple', 'bananana', 'kiwi', 'berry', 'almond']\n",
        "k = 5\n",
        "\n",
        "task1(list_of_words, k)"
      ]
    },
    {
      "cell_type": "markdown",
      "id": "26719cbd",
      "metadata": {
        "id": "26719cbd"
      },
      "source": [
        "### 2. Write a Python program for removing i-th character from a string?"
      ]
    },
    {
      "cell_type": "code",
      "execution_count": 3,
      "id": "3425ccc2",
      "metadata": {
        "id": "3425ccc2",
        "colab": {
          "base_uri": "https://localhost:8080/",
          "height": 35
        },
        "outputId": "ee8c0893-6598-4b70-d523-46ab468f69b5"
      },
      "outputs": [
        {
          "output_type": "execute_result",
          "data": {
            "text/plain": [
              "'abcdfgh'"
            ],
            "application/vnd.google.colaboratory.intrinsic+json": {
              "type": "string"
            }
          },
          "metadata": {},
          "execution_count": 3
        }
      ],
      "source": [
        "def remove(string: str, i):\n",
        "    string = string.replace(string[i], '')\n",
        "    return string\n",
        "remove('abcdefgh', 4)    "
      ]
    },
    {
      "cell_type": "markdown",
      "id": "51ae6b0f",
      "metadata": {
        "id": "51ae6b0f"
      },
      "source": [
        "### 3. Write a Python program to split and join a string?"
      ]
    },
    {
      "cell_type": "code",
      "execution_count": 4,
      "id": "f4a55976",
      "metadata": {
        "id": "f4a55976",
        "outputId": "47882fe6-6d12-4100-d0a4-3b682fcfc22e",
        "colab": {
          "base_uri": "https://localhost:8080/"
        }
      },
      "outputs": [
        {
          "output_type": "stream",
          "name": "stdout",
          "text": [
            "['Write', 'a', 'Python', 'program', 'to', 'split', 'and', 'join', 'a', 'string?']\n",
            "Write a Python program to split and join a string?\n"
          ]
        }
      ],
      "source": [
        "string = \"Write a Python program to split and join a string?\"\n",
        "\n",
        "split = string.split(' ')\n",
        "print(split)\n",
        "\n",
        "join = \" \".join(split)\n",
        "print(join)"
      ]
    },
    {
      "cell_type": "markdown",
      "id": "59079fe1",
      "metadata": {
        "id": "59079fe1"
      },
      "source": [
        "### 4. Write a Python to check if a given string is binary string or not?"
      ]
    },
    {
      "cell_type": "code",
      "execution_count": 5,
      "id": "89f59702",
      "metadata": {
        "id": "89f59702",
        "outputId": "851f4012-a770-428e-bb36-759c2b05c1d8",
        "colab": {
          "base_uri": "https://localhost:8080/"
        }
      },
      "outputs": [
        {
          "output_type": "stream",
          "name": "stdout",
          "text": [
            "Enter the string: 12356\n",
            "Not Binary\n"
          ]
        }
      ],
      "source": [
        "string = input(\"Enter the string: \")\n",
        "binary = ['0', '1']\n",
        "\n",
        "is_binary = True\n",
        "for i in string:\n",
        "    if i not in binary:\n",
        "        is_binary = False\n",
        "    \n",
        "if is_binary:\n",
        "    print(\"Binary\")\n",
        "else:\n",
        "    print(\"Not Binary\")"
      ]
    },
    {
      "cell_type": "markdown",
      "id": "4d6cf11a",
      "metadata": {
        "id": "4d6cf11a"
      },
      "source": [
        "### 5. Write a Python program to find uncommon words from two Strings?"
      ]
    },
    {
      "cell_type": "code",
      "execution_count": null,
      "id": "73bd42d1",
      "metadata": {
        "id": "73bd42d1"
      },
      "outputs": [],
      "source": [
        "def task5(string1, string2):\n",
        "    \n",
        "    string1 = string1.split(' ')\n",
        "    string2 = string2.split(' ')\n",
        "    uncommon = []\n",
        "    \n",
        "    for i in set(string1):\n",
        "        if i not in string2:\n",
        "            uncommon.append(i)\n",
        "\n",
        "    for i in set(string2):\n",
        "        if i not in string1:\n",
        "            uncommon.append(i)\n",
        "            \n",
        "    return uncommon"
      ]
    },
    {
      "cell_type": "code",
      "execution_count": null,
      "id": "73537784",
      "metadata": {
        "id": "73537784",
        "outputId": "672695b9-a2c3-41f0-e6e7-9969ef4c679d"
      },
      "outputs": [
        {
          "data": {
            "text/plain": [
              "['and',\n",
              " 'join',\n",
              " 'string',\n",
              " 'split',\n",
              " 'words',\n",
              " 'find',\n",
              " 'from',\n",
              " 'Strings',\n",
              " 'uncommon',\n",
              " 'two']"
            ]
          },
          "execution_count": 48,
          "metadata": {},
          "output_type": "execute_result"
        }
      ],
      "source": [
        "string1 = \"Write a Python program to split and join a string\"\n",
        "string2 = \"Write a Python program to find uncommon words from two Strings\"\n",
        "\n",
        "task5(string1, string2)"
      ]
    },
    {
      "cell_type": "markdown",
      "id": "e2b24677",
      "metadata": {
        "id": "e2b24677"
      },
      "source": [
        "### 6. Write a Python to find all duplicate characters in string?"
      ]
    },
    {
      "cell_type": "code",
      "execution_count": 8,
      "id": "a410f775",
      "metadata": {
        "id": "a410f775"
      },
      "outputs": [],
      "source": [
        "def duplicate(string: str):\n",
        "    duplicate = []\n",
        "    for i in string:\n",
        "        if string.count(i) > 1:\n",
        "            duplicate.append(i)\n",
        "            \n",
        "    return set(duplicate)"
      ]
    },
    {
      "cell_type": "code",
      "execution_count": 9,
      "id": "91fdbf82",
      "metadata": {
        "id": "91fdbf82",
        "outputId": "007cefc7-b03d-4362-bce4-87dda09b799f",
        "colab": {
          "base_uri": "https://localhost:8080/"
        }
      },
      "outputs": [
        {
          "output_type": "execute_result",
          "data": {
            "text/plain": [
              "{' ', 'a', 'c', 'd', 'e', 'i', 'l', 'n', 'r', 's', 't'}"
            ]
          },
          "metadata": {},
          "execution_count": 9
        }
      ],
      "source": [
        "duplicate(\"find all duplicate characters in string\")"
      ]
    },
    {
      "cell_type": "markdown",
      "id": "1a6af7e4",
      "metadata": {
        "id": "1a6af7e4"
      },
      "source": [
        "### 7. Write a Python Program to check if a string contains any special character?"
      ]
    },
    {
      "cell_type": "code",
      "execution_count": null,
      "id": "75c1ba39",
      "metadata": {
        "id": "75c1ba39",
        "outputId": "feb9ad25-a3c1-4afa-e130-1331a63fde2c"
      },
      "outputs": [
        {
          "name": "stdout",
          "output_type": "stream",
          "text": [
            "Enter a string: qwe*213(*(&\n",
            "Given string contains special characters\n"
          ]
        }
      ],
      "source": [
        "import re\n",
        "\n",
        "\n",
        "string = input(\"Enter a string: \")\n",
        "regex = re.compile('[@_!#$%^&*()<>?/\\|}{~:]')  \n",
        "\n",
        "if(regex.search(string) == None):\n",
        "    print(\"Given string does not contain special characters\")\n",
        "else:\n",
        "    print(\"Given string contains special characters\")"
      ]
    },
    {
      "cell_type": "code",
      "execution_count": null,
      "id": "23f56cac",
      "metadata": {
        "id": "23f56cac",
        "outputId": "c097b8b1-84f4-4581-c917-24127e652479"
      },
      "outputs": [
        {
          "name": "stdout",
          "output_type": "stream",
          "text": [
            "Enter a string: 12312312\n",
            "Given string does not contain special characters\n"
          ]
        }
      ],
      "source": [
        "import re\n",
        "\n",
        "\n",
        "string = input(\"Enter a string: \")\n",
        "regex = re.compile('[@_!#$%^&*()<>?/\\|}{~:]')  \n",
        "\n",
        "if(regex.search(string) == None):\n",
        "    print(\"Given string does not contain special characters\")\n",
        "else:\n",
        "    print(\"Given string contains special characters\")"
      ]
    }
  ],
  "metadata": {
    "kernelspec": {
      "display_name": "Python 3 (ipykernel)",
      "language": "python",
      "name": "python3"
    },
    "language_info": {
      "codemirror_mode": {
        "name": "ipython",
        "version": 3
      },
      "file_extension": ".py",
      "mimetype": "text/x-python",
      "name": "python",
      "nbconvert_exporter": "python",
      "pygments_lexer": "ipython3",
      "version": "3.9.7"
    },
    "colab": {
      "provenance": []
    }
  },
  "nbformat": 4,
  "nbformat_minor": 5
}