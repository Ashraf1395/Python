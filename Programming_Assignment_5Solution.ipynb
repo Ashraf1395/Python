{
  "cells": [
    {
      "cell_type": "markdown",
      "id": "4ac9602a",
      "metadata": {
        "id": "4ac9602a"
      },
      "source": [
        "## Python Basic Programming Assignment - 5\n",
        "--------------\n"
      ]
    },
    {
      "cell_type": "markdown",
      "id": "fdaeee06",
      "metadata": {
        "id": "fdaeee06"
      },
      "source": [
        "### 1. Write a Python Program to Find LCM?"
      ]
    },
    {
      "cell_type": "code",
      "execution_count": 2,
      "id": "2bbfde05",
      "metadata": {
        "id": "2bbfde05"
      },
      "outputs": [],
      "source": [
        "def lcm(a,b):\n",
        "    '''\n",
        "    Function which return the LCM of two number.\n",
        "    '''\n",
        "    high = a if a > b else b\n",
        "    \n",
        "    while True:\n",
        "        if (high%a==0) and (high%b==0):\n",
        "            break\n",
        "        else:\n",
        "            high += 1\n",
        "\n",
        "            \n",
        "    return high"
      ]
    },
    {
      "cell_type": "code",
      "execution_count": 6,
      "id": "b1491e95",
      "metadata": {
        "id": "b1491e95",
        "outputId": "3be31df9-8394-4dd9-d79f-f12ee5679b7b",
        "colab": {
          "base_uri": "https://localhost:8080/"
        }
      },
      "outputs": [
        {
          "output_type": "execute_result",
          "data": {
            "text/plain": [
              "24"
            ]
          },
          "metadata": {},
          "execution_count": 6
        }
      ],
      "source": [
        "a = 12\n",
        "b = 24\n",
        "\n",
        "lcm(a, b)"
      ]
    },
    {
      "cell_type": "markdown",
      "id": "2f459cdf",
      "metadata": {
        "id": "2f459cdf"
      },
      "source": [
        "---------------------\n",
        "### 2. Write a Python Program to Find HCF?"
      ]
    },
    {
      "cell_type": "code",
      "execution_count": 4,
      "id": "ca13cf0c",
      "metadata": {
        "id": "ca13cf0c"
      },
      "outputs": [],
      "source": [
        "def hcf(a, b):\n",
        "    \n",
        "    low = a if a < b else b\n",
        "    for i in range(1, low+1):\n",
        "        if (a%i==0) and (b%i==0):\n",
        "            hcf = i\n",
        "            \n",
        "    return hcf"
      ]
    },
    {
      "cell_type": "code",
      "execution_count": 7,
      "id": "3e41d1af",
      "metadata": {
        "id": "3e41d1af",
        "outputId": "d601b7a9-693a-48a7-b104-e85630b374ab",
        "colab": {
          "base_uri": "https://localhost:8080/"
        }
      },
      "outputs": [
        {
          "output_type": "execute_result",
          "data": {
            "text/plain": [
              "2"
            ]
          },
          "metadata": {},
          "execution_count": 7
        }
      ],
      "source": [
        "a = 4\n",
        "b = 2\n",
        "\n",
        "hcf(a, b)"
      ]
    },
    {
      "cell_type": "markdown",
      "id": "d2c29370",
      "metadata": {
        "id": "d2c29370"
      },
      "source": [
        "---------------\n",
        "### 3. Write a Python Program to Convert Decimal to Binary, Octal and Hexadecimal?"
      ]
    },
    {
      "cell_type": "code",
      "execution_count": 9,
      "id": "f9fac93a",
      "metadata": {
        "id": "f9fac93a"
      },
      "outputs": [],
      "source": [
        "def conversion(num):\n",
        "    print(\"Binary:      \", bin(num))\n",
        "    print(\"Octal:       \", oct(num))\n",
        "    print(\"Hexadecimal: \", hex(num))"
      ]
    },
    {
      "cell_type": "code",
      "execution_count": 11,
      "id": "f3dd6f8d",
      "metadata": {
        "id": "f3dd6f8d",
        "outputId": "d4076d40-02d9-409f-9d15-1d19e12a7281",
        "colab": {
          "base_uri": "https://localhost:8080/"
        }
      },
      "outputs": [
        {
          "output_type": "stream",
          "name": "stdout",
          "text": [
            "Binary:       0b1111\n",
            "Octal:        0o17\n",
            "Hexadecimal:  0xf\n"
          ]
        }
      ],
      "source": [
        "conversion(15)"
      ]
    },
    {
      "cell_type": "markdown",
      "id": "2a16c5fd",
      "metadata": {
        "id": "2a16c5fd"
      },
      "source": [
        "---------------------\n",
        "### 4. Write a Python Program To Find ASCII value of a character?"
      ]
    },
    {
      "cell_type": "code",
      "execution_count": 13,
      "id": "c5164be3",
      "metadata": {
        "id": "c5164be3",
        "outputId": "35ed87b9-d597-4065-e0d9-98ffb21fd1e6",
        "colab": {
          "base_uri": "https://localhost:8080/"
        }
      },
      "outputs": [
        {
          "output_type": "stream",
          "name": "stdout",
          "text": [
            "Enter a character: A\n",
            "ASCII value of A is 65\n"
          ]
        }
      ],
      "source": [
        "char = input(\"Enter a character: \")\n",
        "ASCII = ord(char)\n",
        "print(\"ASCII value of {} is {}\".format(char, ASCII))"
      ]
    },
    {
      "cell_type": "markdown",
      "id": "226778a0",
      "metadata": {
        "id": "226778a0"
      },
      "source": [
        "----------------\n",
        "### 5. Write a Python Program to Make a Simple Calculator with 4 basic mathematical operations?"
      ]
    },
    {
      "cell_type": "code",
      "execution_count": 15,
      "id": "4d0c1a4d",
      "metadata": {
        "id": "4d0c1a4d",
        "outputId": "56f39d55-02b4-4f06-fb5c-8f60632c858b",
        "colab": {
          "base_uri": "https://localhost:8080/"
        }
      },
      "outputs": [
        {
          "output_type": "stream",
          "name": "stdout",
          "text": [
            "Enter first number: 4\n",
            "Enter second number: 5\n",
            "\n",
            "For addition:       +\n",
            "For subtraction:    -\n",
            "For multiplicaton:  *\n",
            "For division:       /\n",
            "For Exit:            X\n",
            "\n",
            "Enter the choice for mathematical operations: -\n",
            "\n",
            "Result:  -1\n"
          ]
        }
      ],
      "source": [
        "\n",
        "num1 = int(input(\"Enter first number: \"))\n",
        "num2 = int(input(\"Enter second number: \"))\n",
        "\n",
        "print(\"\\nFor addition:       +\")\n",
        "print(\"For subtraction:    -\")\n",
        "print(\"For multiplicaton:  *\")\n",
        "print(\"For division:       /\")\n",
        "print(\"For Exit:            X\")\n",
        "          \n",
        "x = input(\"\\nEnter the choice for mathematical operations: \")\n",
        "          \n",
        "          \n",
        "if x == '+':\n",
        "  output = num1 + num2\n",
        "elif x == '-':\n",
        "  output = num1 - num2\n",
        "elif x == '*':\n",
        "  output = num1 * num2\n",
        "elif x == '/':\n",
        "  output = num1 / num2\n",
        "          \n",
        "print(\"\\nResult: \", output)\n",
        "          \n",
        "        \n"
      ]
    },
    {
      "cell_type": "code",
      "execution_count": null,
      "id": "fa01d572",
      "metadata": {
        "id": "fa01d572"
      },
      "outputs": [],
      "source": []
    }
  ],
  "metadata": {
    "kernelspec": {
      "display_name": "Python 3 (ipykernel)",
      "language": "python",
      "name": "python3"
    },
    "language_info": {
      "codemirror_mode": {
        "name": "ipython",
        "version": 3
      },
      "file_extension": ".py",
      "mimetype": "text/x-python",
      "name": "python",
      "nbconvert_exporter": "python",
      "pygments_lexer": "ipython3",
      "version": "3.9.7"
    },
    "colab": {
      "provenance": []
    }
  },
  "nbformat": 4,
  "nbformat_minor": 5
}