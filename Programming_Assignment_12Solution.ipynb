{
  "cells": [
    {
      "cell_type": "markdown",
      "id": "b7231b20",
      "metadata": {
        "id": "b7231b20"
      },
      "source": [
        "# Python Basic Programming Assignment 12\n",
        "-------------"
      ]
    },
    {
      "cell_type": "markdown",
      "id": "d2ec324d",
      "metadata": {
        "id": "d2ec324d"
      },
      "source": [
        "### 1. Write a Python program to Extract Unique values dictionary values?"
      ]
    },
    {
      "cell_type": "code",
      "execution_count": 3,
      "id": "4b68b3c7",
      "metadata": {
        "id": "4b68b3c7",
        "colab": {
          "base_uri": "https://localhost:8080/"
        },
        "outputId": "58c4879c-0734-45b7-ab23-c08ab4575bb8"
      },
      "outputs": [
        {
          "output_type": "execute_result",
          "data": {
            "text/plain": [
              "{1, 1234, 'hello'}"
            ]
          },
          "metadata": {},
          "execution_count": 3
        }
      ],
      "source": [
        "dict1 = {'k1': 1, 'k2': 1, 'k3': 'hello', 'k4': 'hello', 'k5':1234}\n",
        "unique = {i for i in dict1.values()}\n",
        "unique"
      ]
    },
    {
      "cell_type": "markdown",
      "id": "203bcbc3",
      "metadata": {
        "id": "203bcbc3"
      },
      "source": [
        "### 2. Write a Python program to find the sum of all items in a dictionary?"
      ]
    },
    {
      "cell_type": "code",
      "execution_count": 2,
      "id": "efc08e0d",
      "metadata": {
        "id": "efc08e0d",
        "outputId": "b5dfd3d9-17a3-45be-cc7b-11bed18d4fc4",
        "colab": {
          "base_uri": "https://localhost:8080/"
        }
      },
      "outputs": [
        {
          "output_type": "stream",
          "name": "stdout",
          "text": [
            "Sum of all values is : 328\n"
          ]
        }
      ],
      "source": [
        "dict = {'k1' : 89,\n",
        "             'k2' : 111,\n",
        "             'k3' : 123,\n",
        "             'k4' : 5}\n",
        "\n",
        "sum = 0\n",
        "for i in dict.values():\n",
        "    sum =sum + i\n",
        "print(f\"Sum of all values is : {sum}\")"
      ]
    },
    {
      "cell_type": "markdown",
      "id": "edfbc682",
      "metadata": {
        "id": "edfbc682"
      },
      "source": [
        "### 3. Write a Python program to Merging two Dictionaries?"
      ]
    },
    {
      "cell_type": "code",
      "execution_count": null,
      "id": "7cf2eb9f",
      "metadata": {
        "id": "7cf2eb9f",
        "outputId": "a81e73fa-f756-4ba5-e80c-5eaedf88394c"
      },
      "outputs": [
        {
          "name": "stdout",
          "output_type": "stream",
          "text": [
            "{'x': 1, 'l': 2, 'k': 3, 'z': 4}\n"
          ]
        }
      ],
      "source": [
        "dict1 = { 'x': 1, 'l': 2}\n",
        "dict2 = { 'k': 3, 'z': 4, 'x': 11}\n",
        "# merging dict2 into dict1\n",
        "for item in dict2.items():\n",
        "    dict1.setdefault(item[0], item[1])\n",
        "print(dict1)"
      ]
    },
    {
      "cell_type": "markdown",
      "id": "62eaf687",
      "metadata": {
        "id": "62eaf687"
      },
      "source": [
        "### 4. Write a Python program to convert key-values list to flat dictionary"
      ]
    },
    {
      "cell_type": "code",
      "execution_count": 5,
      "id": "8902c328",
      "metadata": {
        "id": "8902c328",
        "outputId": "490cf38f-a9b7-4f8e-9c7b-c1634925133e",
        "colab": {
          "base_uri": "https://localhost:8080/",
          "height": 235
        }
      },
      "outputs": [
        {
          "output_type": "error",
          "ename": "TypeError",
          "evalue": "ignored",
          "traceback": [
            "\u001b[0;31m---------------------------------------------------------------------------\u001b[0m",
            "\u001b[0;31mTypeError\u001b[0m                                 Traceback (most recent call last)",
            "\u001b[0;32m<ipython-input-5-2330bdef1389>\u001b[0m in \u001b[0;36m<cell line: 4>\u001b[0;34m()\u001b[0m\n\u001b[1;32m      2\u001b[0m \u001b[0;34m\u001b[0m\u001b[0m\n\u001b[1;32m      3\u001b[0m \u001b[0;31m# Using dict() + zip() to convert key-values list to flat dictionary\u001b[0m\u001b[0;34m\u001b[0m\u001b[0;34m\u001b[0m\u001b[0m\n\u001b[0;32m----> 4\u001b[0;31m \u001b[0mres\u001b[0m \u001b[0;34m=\u001b[0m \u001b[0mdict\u001b[0m\u001b[0;34m(\u001b[0m\u001b[0mzip\u001b[0m\u001b[0;34m(\u001b[0m\u001b[0mtest_dict\u001b[0m\u001b[0;34m[\u001b[0m\u001b[0;34m'month'\u001b[0m\u001b[0;34m]\u001b[0m\u001b[0;34m,\u001b[0m \u001b[0mtest_dict\u001b[0m\u001b[0;34m[\u001b[0m\u001b[0;34m'name'\u001b[0m\u001b[0;34m]\u001b[0m\u001b[0;34m)\u001b[0m\u001b[0;34m)\u001b[0m\u001b[0;34m\u001b[0m\u001b[0;34m\u001b[0m\u001b[0m\n\u001b[0m\u001b[1;32m      5\u001b[0m \u001b[0;34m\u001b[0m\u001b[0m\n\u001b[1;32m      6\u001b[0m \u001b[0mprint\u001b[0m\u001b[0;34m(\u001b[0m\u001b[0;34m\"Flattened dictionary : \"\u001b[0m \u001b[0;34m+\u001b[0m \u001b[0mstr\u001b[0m\u001b[0;34m(\u001b[0m\u001b[0mres\u001b[0m\u001b[0;34m)\u001b[0m\u001b[0;34m)\u001b[0m\u001b[0;34m\u001b[0m\u001b[0;34m\u001b[0m\u001b[0m\n",
            "\u001b[0;31mTypeError\u001b[0m: 'dict' object is not callable"
          ]
        }
      ],
      "source": []
    },
    {
      "cell_type": "markdown",
      "id": "fcc5015f",
      "metadata": {
        "id": "fcc5015f"
      },
      "source": [
        "### 5. Write a Python program to insertion at the beginning in OrderedDict?"
      ]
    },
    {
      "cell_type": "code",
      "execution_count": 6,
      "id": "2f4387f5",
      "metadata": {
        "id": "2f4387f5",
        "outputId": "1c3ea932-db5c-45db-c913-5d01921d2f98",
        "colab": {
          "base_uri": "https://localhost:8080/"
        }
      },
      "outputs": [
        {
          "output_type": "stream",
          "name": "stdout",
          "text": [
            "Ordered Dictionary after insertion : OrderedDict([('Jan', '1'), ('Feb', '2'), ('Mar', '3')])\n"
          ]
        }
      ],
      "source": [
        "from collections import OrderedDict\n",
        "  \n",
        "# initialising ordered_dict\n",
        "iniordered_dict = OrderedDict([('Feb', '2'), ('Mar', '3')])\n",
        "  \n",
        "# inserting items in starting of dict \n",
        "iniordered_dict.update({'Jan':'1'})\n",
        "iniordered_dict.move_to_end('Jan', last = False)\n",
        "  \n",
        "# print result\n",
        "print (\"Ordered Dictionary after insertion : \"+str(iniordered_dict))"
      ]
    },
    {
      "cell_type": "markdown",
      "id": "5978c9ab",
      "metadata": {
        "id": "5978c9ab"
      },
      "source": [
        "### 6. Write a Python program to check order of character in string using OrderedDict()?"
      ]
    },
    {
      "cell_type": "code",
      "execution_count": 7,
      "id": "9514e78e",
      "metadata": {
        "id": "9514e78e",
        "outputId": "fe89fa04-e339-4c2f-97e1-9abcbc83171d",
        "colab": {
          "base_uri": "https://localhost:8080/"
        }
      },
      "outputs": [
        {
          "output_type": "stream",
          "name": "stdout",
          "text": [
            "enter string : jhj\n",
            "Enter Pattern : kjhjk\n",
            "OrderedDict([('j', None), ('h', None)])\n",
            "Pattern matched\n"
          ]
        }
      ],
      "source": [
        "from collections import OrderedDict \n",
        "  \n",
        "def checkOrderofString(str, pattern): \n",
        "      \n",
        "    # create empty OrderedDict \n",
        "    dict = OrderedDict.fromkeys(str) \n",
        "    print(dict)   \n",
        "    ptrlen = 0\n",
        "    for key,value in dict.items(): \n",
        "        \n",
        "        if (key == pattern[ptrlen]): \n",
        "            ptrlen = ptrlen + 1\n",
        "          \n",
        "        # check if we have traverse complete pattern string \n",
        "        if (ptrlen == (len(pattern))):            \n",
        "            return 'true'\n",
        "  \n",
        "    # if we come out from for loop that means order was mismatched \n",
        "    return 'false'\n",
        "  \n",
        "\n",
        "string = input(\"enter string : \")\n",
        "pattern = input(\"Enter Pattern : \")\n",
        "if checkOrderofString(string,pattern):\n",
        "    print(\"Pattern matched\")\n",
        "else:\n",
        "    print(\"Pattern not matched\")"
      ]
    },
    {
      "cell_type": "markdown",
      "id": "f330da77",
      "metadata": {
        "id": "f330da77"
      },
      "source": [
        "### 7. Write a Python program to sort Python Dictionaries by Key or Value?"
      ]
    },
    {
      "cell_type": "code",
      "execution_count": 8,
      "id": "d80e3014",
      "metadata": {
        "id": "d80e3014",
        "outputId": "79f13567-2b71-4016-c8e3-e08dca9c8a15",
        "colab": {
          "base_uri": "https://localhost:8080/"
        }
      },
      "outputs": [
        {
          "output_type": "stream",
          "name": "stdout",
          "text": [
            "['4', '6', 'k1', 'k2', 'k3', 'key7']\n",
            "[('4', 4), ('6', 6), ('k1', 2), ('k2', 1), ('k3', 3), ('key7', 7)]\n",
            "[1, 2, 3, 4, 6, 7]\n"
          ]
        }
      ],
      "source": [
        "a = {'k1':2, 'k2':1, 'k3':3, '4':4 ,'6':6, 'key7':7}\n",
        "#this will print a sorted list of the keys\n",
        "print(sorted(a.keys()))\n",
        "#this will print the sorted list with items.\n",
        "print(sorted(a.items()))\n",
        "#a = {1:2 ,2:1 ,4:3 ,3:4 ,6:5 ,5:6 }\n",
        "print(sorted(a.values()))\n",
        "#this will print a sorted list of values."
      ]
    },
    {
      "cell_type": "code",
      "execution_count": null,
      "id": "e4ff7e34",
      "metadata": {
        "id": "e4ff7e34"
      },
      "outputs": [],
      "source": []
    }
  ],
  "metadata": {
    "kernelspec": {
      "display_name": "Python 3 (ipykernel)",
      "language": "python",
      "name": "python3"
    },
    "language_info": {
      "codemirror_mode": {
        "name": "ipython",
        "version": 3
      },
      "file_extension": ".py",
      "mimetype": "text/x-python",
      "name": "python",
      "nbconvert_exporter": "python",
      "pygments_lexer": "ipython3",
      "version": "3.9.7"
    },
    "colab": {
      "provenance": []
    }
  },
  "nbformat": 4,
  "nbformat_minor": 5
}