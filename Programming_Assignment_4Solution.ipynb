{
  "cells": [
    {
      "cell_type": "markdown",
      "id": "20cb4340",
      "metadata": {
        "id": "20cb4340"
      },
      "source": [
        "## Programming Assignment_4\n",
        "----------------"
      ]
    },
    {
      "cell_type": "markdown",
      "id": "4fdb6695",
      "metadata": {
        "id": "4fdb6695"
      },
      "source": [
        "### 1. Write a Python Program to Find the Factorial of a Number?\n",
        "##### Sol."
      ]
    },
    {
      "cell_type": "code",
      "execution_count": 2,
      "id": "0e5e7ce2",
      "metadata": {
        "id": "0e5e7ce2",
        "outputId": "cecdd40e-3c7a-40f7-81bb-4c92849f7f7e",
        "colab": {
          "base_uri": "https://localhost:8080/"
        }
      },
      "outputs": [
        {
          "output_type": "stream",
          "name": "stdout",
          "text": [
            "Enter a number: 5\n",
            " Fatorial of 5 is 120\n"
          ]
        }
      ],
      "source": [
        "num = int(input(\"Enter a number: \"))\n",
        "\n",
        "def factorial(num):\n",
        "  if (num==0 or num==1):\n",
        "    return 1\n",
        "  return num*factorial(num-1)  \n",
        "print(f\" Fatorial of {num} is {factorial(num)}\")\n"
      ]
    },
    {
      "cell_type": "markdown",
      "id": "e6beef62",
      "metadata": {
        "id": "e6beef62"
      },
      "source": [
        "### 2. Write a Python Program to Display the multiplication Table?\n",
        "##### Sol."
      ]
    },
    {
      "cell_type": "code",
      "execution_count": 4,
      "id": "eba74c90",
      "metadata": {
        "id": "eba74c90",
        "outputId": "6c5ac426-7851-4648-c6df-b8f6a704ede7",
        "colab": {
          "base_uri": "https://localhost:8080/"
        }
      },
      "outputs": [
        {
          "output_type": "stream",
          "name": "stdout",
          "text": [
            "Enter a number: 21\n",
            "21 x 1 = 21\n",
            "21 x 2 = 42\n",
            "21 x 3 = 63\n",
            "21 x 4 = 84\n",
            "21 x 5 = 105\n",
            "21 x 6 = 126\n",
            "21 x 7 = 147\n",
            "21 x 8 = 168\n",
            "21 x 9 = 189\n",
            "21 x 10 = 210\n"
          ]
        }
      ],
      "source": [
        "num = int(input(\"Enter a number: \"))\n",
        "for i in range(1, 11):\n",
        "    print(f\"{num} x {i} = {num*i}\")\n",
        "    "
      ]
    },
    {
      "cell_type": "markdown",
      "id": "7de7eba5",
      "metadata": {
        "id": "7de7eba5"
      },
      "source": [
        "### 3. Write a Python Program to Print the Fibonacci sequence?\n",
        "##### Sol."
      ]
    },
    {
      "cell_type": "code",
      "execution_count": 12,
      "id": "14b8e06e",
      "metadata": {
        "id": "14b8e06e",
        "outputId": "f7e85edf-782e-4e5b-87ab-3305b58c09cb",
        "colab": {
          "base_uri": "https://localhost:8080/"
        }
      },
      "outputs": [
        {
          "output_type": "stream",
          "name": "stdout",
          "text": [
            "Enter a length: 5\n",
            "0 1 1 2 3 5 8 "
          ]
        }
      ],
      "source": [
        "num= int(input(\"Enter a length: \"))\n",
        "\n",
        "a = 0\n",
        "b = 1\n",
        "print(a, end = ' ')\n",
        "print(b, end = ' ')\n",
        "def fibo(i,num,a,b):\n",
        "  if i==num:\n",
        "    return  \n",
        "  print(a+b,end=\" \")\n",
        "  fibo(i+1,num,b,a+b)\n",
        "fibo(0,num,a,b)    "
      ]
    },
    {
      "cell_type": "markdown",
      "id": "0446442e",
      "metadata": {
        "id": "0446442e"
      },
      "source": [
        "### 4. Write a Python Program to Check Armstrong Number?\n",
        "##### Sol. "
      ]
    },
    {
      "cell_type": "code",
      "execution_count": 15,
      "id": "8275da72",
      "metadata": {
        "id": "8275da72",
        "colab": {
          "base_uri": "https://localhost:8080/"
        },
        "outputId": "399febdf-cbd5-403e-883c-8cccb9888f7c"
      },
      "outputs": [
        {
          "output_type": "stream",
          "name": "stdout",
          "text": [
            "Enter a number: 153\n",
            "153 is an armstrong number\n"
          ]
        }
      ],
      "source": [
        "num = int(input(\"Enter a number: \"))\n",
        "\n",
        "import math\n",
        "def armstrong_check(num):\n",
        "    l = len(str(num))  ## l = number of digits of number\n",
        "    sum1 = 0 \n",
        "    temp_num = num\n",
        "    while(num > 0):\n",
        "        d = num % 10\n",
        "        sum1 += int(math.pow(d, l))\n",
        "        num = num // 10\n",
        "\n",
        "    if(sum1 == int(temp_num)):\n",
        "        return 1\n",
        "    else:\n",
        "        return 0\n",
        "\n",
        "\n",
        "if(armstrong_check(num)):\n",
        "    print(f\"{num} is an armstrong number\")\n",
        "else:\n",
        "    print(f\"{num} is not an armstrong number\")\n",
        "            "
      ]
    },
    {
      "cell_type": "markdown",
      "id": "a6f9adfe",
      "metadata": {
        "id": "a6f9adfe"
      },
      "source": [
        "### 5. Write a Python Program to Find Armstrong Number in an Interval?\n",
        "##### Sol."
      ]
    },
    {
      "cell_type": "code",
      "execution_count": 17,
      "id": "0c4aa2f5",
      "metadata": {
        "id": "0c4aa2f5",
        "outputId": "5f56c69a-7d13-432e-88c1-c7678dca57f3",
        "colab": {
          "base_uri": "https://localhost:8080/"
        }
      },
      "outputs": [
        {
          "output_type": "stream",
          "name": "stdout",
          "text": [
            "Enter the lower value of range: 1\n",
            "Enter the higher value of range: 1000\n",
            "From 1 to 1000 following are the Armstrong Number:\n",
            "1 2 3 4 5 6 7 8 9 153 370 371 407 "
          ]
        }
      ],
      "source": [
        "a = int(input(\"Enter the lower value of range: \"))\n",
        "b = int(input(\"Enter the higher value of range: \"))\n",
        "\n",
        "print(f\"From {a} to {b} following are the Armstrong Number:\", end='\\n')\n",
        "for i in range(a, b+1):\n",
        "    if(armstrong_check(i)):\n",
        "        print(i, end = ' ')"
      ]
    },
    {
      "cell_type": "markdown",
      "id": "157cad60",
      "metadata": {
        "id": "157cad60"
      },
      "source": [
        "### 6. Write a Python Program to Find the Sum of Natural Numbers?\n",
        "##### Sol."
      ]
    },
    {
      "cell_type": "code",
      "execution_count": 18,
      "id": "aa7cf139",
      "metadata": {
        "id": "aa7cf139",
        "outputId": "93bead6c-5547-4f47-d347-4a5e0e3bb148",
        "colab": {
          "base_uri": "https://localhost:8080/"
        }
      },
      "outputs": [
        {
          "output_type": "stream",
          "name": "stdout",
          "text": [
            "Enter a positive number: 10\n",
            "Sum of 10 natural numbers is 55\n"
          ]
        }
      ],
      "source": [
        "num = int(input(\"Enter a positive number: \"))\n",
        "\n",
        "sum = 0\n",
        "for i in range(1, num+1):\n",
        "    sum += i\n",
        "print(f\"Sum of {num} natural numbers is {sum}\")"
      ]
    }
  ],
  "metadata": {
    "kernelspec": {
      "display_name": "Python 3 (ipykernel)",
      "language": "python",
      "name": "python3"
    },
    "language_info": {
      "codemirror_mode": {
        "name": "ipython",
        "version": 3
      },
      "file_extension": ".py",
      "mimetype": "text/x-python",
      "name": "python",
      "nbconvert_exporter": "python",
      "pygments_lexer": "ipython3",
      "version": "3.9.7"
    },
    "colab": {
      "provenance": []
    }
  },
  "nbformat": 4,
  "nbformat_minor": 5
}