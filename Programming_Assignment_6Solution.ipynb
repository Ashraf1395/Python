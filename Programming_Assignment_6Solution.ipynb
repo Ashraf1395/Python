{
  "cells": [
    {
      "cell_type": "markdown",
      "id": "84a41a9f",
      "metadata": {
        "id": "84a41a9f"
      },
      "source": [
        "# Programming Basic Assignment 6"
      ]
    },
    {
      "cell_type": "markdown",
      "id": "a4b40558",
      "metadata": {
        "id": "a4b40558"
      },
      "source": [
        "------------\n",
        "### 1. Write a Python Program to Display Fibonacci Sequence Using Recursion?"
      ]
    },
    {
      "cell_type": "code",
      "execution_count": 1,
      "id": "e1b8420c",
      "metadata": {
        "id": "e1b8420c",
        "colab": {
          "base_uri": "https://localhost:8080/"
        },
        "outputId": "5223ab36-e410-4b8b-a686-7324fb43a13d"
      },
      "outputs": [
        {
          "output_type": "stream",
          "name": "stdout",
          "text": [
            "Enter a length: 6\n",
            "0 1 1 2 3 5 8 13 "
          ]
        }
      ],
      "source": [
        "num= int(input(\"Enter a length: \"))\n",
        "\n",
        "a = 0\n",
        "b = 1\n",
        "print(a, end = ' ')\n",
        "print(b, end = ' ')\n",
        "def fibo(i,num,a,b):\n",
        "  if i==num:\n",
        "    return  \n",
        "  print(a+b,end=\" \")\n",
        "  fibo(i+1,num,b,a+b)\n",
        "fibo(0,num,a,b) "
      ]
    },
    {
      "cell_type": "markdown",
      "id": "d7a57f60",
      "metadata": {
        "id": "d7a57f60"
      },
      "source": [
        "-------------------\n",
        "### 2. Write a Python Program to Find Factorial of Number Using Recursion?"
      ]
    },
    {
      "cell_type": "code",
      "execution_count": 2,
      "id": "2cdea8e5",
      "metadata": {
        "id": "2cdea8e5",
        "colab": {
          "base_uri": "https://localhost:8080/"
        },
        "outputId": "ab71b539-2189-47e0-93a5-601efaf07a5b"
      },
      "outputs": [
        {
          "name": "stdout",
          "output_type": "stream",
          "text": [
            "Enter a number: 10\n"
          ]
        },
        {
          "output_type": "execute_result",
          "data": {
            "text/plain": [
              "3628800"
            ]
          },
          "metadata": {},
          "execution_count": 2
        }
      ],
      "source": [
        "def factorial(n):\n",
        "    if n == 0 or n==1:\n",
        "        return 1\n",
        "    else:\n",
        "        return n*factorial(n-1)\n",
        "num=int(input(\"Enter a number: \"))\n",
        "factorial(num)"
      ]
    },
    {
      "cell_type": "markdown",
      "id": "0357b86f",
      "metadata": {
        "id": "0357b86f"
      },
      "source": [
        "-------------\n",
        "### 3. Write a Python Program to calculate your Body Mass Index?"
      ]
    },
    {
      "cell_type": "code",
      "execution_count": 8,
      "id": "ae7411ea",
      "metadata": {
        "id": "ae7411ea",
        "colab": {
          "base_uri": "https://localhost:8080/"
        },
        "outputId": "5730875b-8959-4e68-85e7-6fb1ca6cae2f"
      },
      "outputs": [
        {
          "output_type": "execute_result",
          "data": {
            "text/plain": [
              "22.229061933586404"
            ]
          },
          "metadata": {},
          "execution_count": 8
        }
      ],
      "source": [
        "def bmi(h, w):\n",
        "    bmi=w/(h*h)\n",
        "    return bmi\n",
        "bmi(1.71, 65)    "
      ]
    },
    {
      "cell_type": "markdown",
      "id": "96d344a4",
      "metadata": {
        "id": "96d344a4"
      },
      "source": [
        "--------------\n",
        "### 4. Write a Python Program to calculate the natural logarithm of any number?"
      ]
    },
    {
      "cell_type": "code",
      "execution_count": 9,
      "id": "967b521c",
      "metadata": {
        "id": "967b521c",
        "outputId": "44a9538c-f57a-4715-c25f-e51f88b3df91",
        "colab": {
          "base_uri": "https://localhost:8080/"
        }
      },
      "outputs": [
        {
          "output_type": "stream",
          "name": "stdout",
          "text": [
            "Enter the number: 12\n",
            "2.4849066497880004\n"
          ]
        }
      ],
      "source": [
        "import math\n",
        "num = int(input(\"Enter the number: \"))\n",
        "print(math.log(num))"
      ]
    },
    {
      "cell_type": "markdown",
      "id": "11c0d92c",
      "metadata": {
        "id": "11c0d92c"
      },
      "source": [
        "------------\n",
        "### 5. Write a Python Program for cube sum of first n natural numbers?\n"
      ]
    },
    {
      "cell_type": "code",
      "execution_count": 10,
      "id": "04a60dbe",
      "metadata": {
        "id": "04a60dbe"
      },
      "outputs": [],
      "source": [
        "def cubN(n):\n",
        "    return sum(range(n+1))**3\n",
        "\n",
        "#nice solution learned a new thing    "
      ]
    },
    {
      "cell_type": "code",
      "execution_count": 11,
      "id": "289a7617",
      "metadata": {
        "id": "289a7617",
        "outputId": "80c15de1-b016-4f80-d0b7-e6c43e35cc7c",
        "colab": {
          "base_uri": "https://localhost:8080/"
        }
      },
      "outputs": [
        {
          "output_type": "execute_result",
          "data": {
            "text/plain": [
              "216"
            ]
          },
          "metadata": {},
          "execution_count": 11
        }
      ],
      "source": [
        "cubN(3)"
      ]
    },
    {
      "cell_type": "code",
      "execution_count": null,
      "id": "b85b9140",
      "metadata": {
        "id": "b85b9140"
      },
      "outputs": [],
      "source": []
    }
  ],
  "metadata": {
    "kernelspec": {
      "display_name": "Python 3 (ipykernel)",
      "language": "python",
      "name": "python3"
    },
    "language_info": {
      "codemirror_mode": {
        "name": "ipython",
        "version": 3
      },
      "file_extension": ".py",
      "mimetype": "text/x-python",
      "name": "python",
      "nbconvert_exporter": "python",
      "pygments_lexer": "ipython3",
      "version": "3.9.7"
    },
    "colab": {
      "provenance": []
    }
  },
  "nbformat": 4,
  "nbformat_minor": 5
}