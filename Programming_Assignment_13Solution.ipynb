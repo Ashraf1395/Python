{
  "cells": [
    {
      "cell_type": "markdown",
      "id": "62fd0c8e",
      "metadata": {
        "id": "62fd0c8e"
      },
      "source": [
        "# Python Programming Basic Assignment 13"
      ]
    },
    {
      "cell_type": "markdown",
      "id": "ed4a3c0b",
      "metadata": {
        "id": "ed4a3c0b"
      },
      "source": [
        "\n",
        "### 1. Write a program that calculates and prints the value according to the given formula:\n",
        "Q = Square root of [(2 C D)/H]\n",
        "\n",
        "Following are the fixed values of C and H:\n",
        "\n",
        "C is 50. H is 30.\n",
        "\n",
        "D is the variable whose values should be input to your program in a comma-separated sequence.\n",
        "\n",
        "Example\n",
        "\n",
        "Let us assume the following comma separated input sequence is given to the program:\n",
        "\n",
        "100,150,180\n",
        "\n",
        "The output of the program should be:\n",
        "\n",
        "18,22,24"
      ]
    },
    {
      "cell_type": "code",
      "execution_count": 1,
      "id": "96b47837",
      "metadata": {
        "id": "96b47837",
        "outputId": "9d5a3efb-afa4-4546-d8b5-765af7f46352",
        "colab": {
          "base_uri": "https://localhost:8080/"
        }
      },
      "outputs": [
        {
          "output_type": "stream",
          "name": "stdout",
          "text": [
            "Enter comma separated values: 100,150,180\n",
            "[18, 22, 24]\n"
          ]
        }
      ],
      "source": [
        "import math\n",
        "\n",
        "def formula(list):\n",
        "    c = 50\n",
        "    h = 30\n",
        "    result = []\n",
        "    for d in list:\n",
        "        result.append(int(math.sqrt((2*c*int(d))/h)))\n",
        "    print(result)\n",
        "    \n",
        "\n",
        "n = list(input(\"Enter comma separated values: \").split(','))\n",
        "formula(n)"
      ]
    },
    {
      "cell_type": "markdown",
      "id": "ed37b6ed",
      "metadata": {
        "id": "ed37b6ed"
      },
      "source": [
        "### 2. Write a program which takes 2 digits, X,Y as input and generates a 2-dimensional array. The element value in the i-th row and j-th column of the array should be i*j."
      ]
    },
    {
      "cell_type": "code",
      "execution_count": 3,
      "id": "09beaed7",
      "metadata": {
        "id": "09beaed7",
        "outputId": "23772678-3a6d-4d7a-dfea-2ce1bc65e1e1",
        "colab": {
          "base_uri": "https://localhost:8080/"
        }
      },
      "outputs": [
        {
          "output_type": "stream",
          "name": "stdout",
          "text": [
            "Enter X value: 5\n",
            "Enter Y value: 3\n",
            "\n",
            "\n",
            "\n",
            "\n",
            "\n",
            "\n",
            "\n",
            "\n",
            "\n",
            "\n",
            "\n",
            "\n",
            "\n",
            "\n",
            "\n",
            "[[0, 0, 0], [0, 1, 2], [0, 2, 4], [0, 3, 6], [0, 4, 8]]\n"
          ]
        }
      ],
      "source": [
        "x = int(input(\"Enter X value: \"))\n",
        "y = int(input(\"Enter Y value: \"))\n",
        "matrix = []\n",
        "for i in range(x):\n",
        "    row = []\n",
        "    for j in range(y):\n",
        "        row.append(i*j)\n",
        "        \n",
        "    matrix.append(row)\n",
        "    \n",
        "print(matrix)"
      ]
    },
    {
      "cell_type": "markdown",
      "id": "bc7f977b",
      "metadata": {
        "id": "bc7f977b"
      },
      "source": [
        "### 3. Write a program that accepts a comma separated sequence of words as input and prints the words in a comma-separated sequence after sorting them alphabetically."
      ]
    },
    {
      "cell_type": "code",
      "execution_count": 4,
      "id": "9122174d",
      "metadata": {
        "id": "9122174d",
        "outputId": "2cade906-522c-4652-92ae-e53885273127",
        "colab": {
          "base_uri": "https://localhost:8080/",
          "height": 345
        }
      },
      "outputs": [
        {
          "output_type": "error",
          "ename": "KeyboardInterrupt",
          "evalue": "ignored",
          "traceback": [
            "\u001b[0;31m---------------------------------------------------------------------------\u001b[0m",
            "\u001b[0;31mKeyboardInterrupt\u001b[0m                         Traceback (most recent call last)",
            "\u001b[0;32m<ipython-input-4-6517639ae78f>\u001b[0m in \u001b[0;36m<cell line: 1>\u001b[0;34m()\u001b[0m\n\u001b[0;32m----> 1\u001b[0;31m \u001b[0mwords\u001b[0m \u001b[0;34m=\u001b[0m \u001b[0mlist\u001b[0m\u001b[0;34m(\u001b[0m\u001b[0minput\u001b[0m\u001b[0;34m(\u001b[0m\u001b[0;34m\"Enter comma seperated words: \"\u001b[0m\u001b[0;34m)\u001b[0m\u001b[0;34m.\u001b[0m\u001b[0msplit\u001b[0m\u001b[0;34m(\u001b[0m\u001b[0;34m','\u001b[0m\u001b[0;34m)\u001b[0m\u001b[0;34m)\u001b[0m\u001b[0;34m\u001b[0m\u001b[0;34m\u001b[0m\u001b[0m\n\u001b[0m\u001b[1;32m      2\u001b[0m \u001b[0mwords\u001b[0m\u001b[0;34m.\u001b[0m\u001b[0msort\u001b[0m\u001b[0;34m(\u001b[0m\u001b[0;34m)\u001b[0m\u001b[0;34m\u001b[0m\u001b[0;34m\u001b[0m\u001b[0m\n\u001b[1;32m      3\u001b[0m \u001b[0mprint\u001b[0m\u001b[0;34m(\u001b[0m\u001b[0;34m','\u001b[0m\u001b[0;34m.\u001b[0m\u001b[0mjoin\u001b[0m\u001b[0;34m(\u001b[0m\u001b[0mwords\u001b[0m\u001b[0;34m)\u001b[0m\u001b[0;34m)\u001b[0m\u001b[0;34m\u001b[0m\u001b[0;34m\u001b[0m\u001b[0m\n",
            "\u001b[0;32m/usr/local/lib/python3.9/dist-packages/ipykernel/kernelbase.py\u001b[0m in \u001b[0;36mraw_input\u001b[0;34m(self, prompt)\u001b[0m\n\u001b[1;32m    849\u001b[0m                 \u001b[0;34m\"raw_input was called, but this frontend does not support input requests.\"\u001b[0m\u001b[0;34m\u001b[0m\u001b[0;34m\u001b[0m\u001b[0m\n\u001b[1;32m    850\u001b[0m             )\n\u001b[0;32m--> 851\u001b[0;31m         return self._input_request(str(prompt),\n\u001b[0m\u001b[1;32m    852\u001b[0m             \u001b[0mself\u001b[0m\u001b[0;34m.\u001b[0m\u001b[0m_parent_ident\u001b[0m\u001b[0;34m,\u001b[0m\u001b[0;34m\u001b[0m\u001b[0;34m\u001b[0m\u001b[0m\n\u001b[1;32m    853\u001b[0m             \u001b[0mself\u001b[0m\u001b[0;34m.\u001b[0m\u001b[0m_parent_header\u001b[0m\u001b[0;34m,\u001b[0m\u001b[0;34m\u001b[0m\u001b[0;34m\u001b[0m\u001b[0m\n",
            "\u001b[0;32m/usr/local/lib/python3.9/dist-packages/ipykernel/kernelbase.py\u001b[0m in \u001b[0;36m_input_request\u001b[0;34m(self, prompt, ident, parent, password)\u001b[0m\n\u001b[1;32m    893\u001b[0m             \u001b[0;32mexcept\u001b[0m \u001b[0mKeyboardInterrupt\u001b[0m\u001b[0;34m:\u001b[0m\u001b[0;34m\u001b[0m\u001b[0;34m\u001b[0m\u001b[0m\n\u001b[1;32m    894\u001b[0m                 \u001b[0;31m# re-raise KeyboardInterrupt, to truncate traceback\u001b[0m\u001b[0;34m\u001b[0m\u001b[0;34m\u001b[0m\u001b[0m\n\u001b[0;32m--> 895\u001b[0;31m                 \u001b[0;32mraise\u001b[0m \u001b[0mKeyboardInterrupt\u001b[0m\u001b[0;34m(\u001b[0m\u001b[0;34m\"Interrupted by user\"\u001b[0m\u001b[0;34m)\u001b[0m \u001b[0;32mfrom\u001b[0m \u001b[0;32mNone\u001b[0m\u001b[0;34m\u001b[0m\u001b[0;34m\u001b[0m\u001b[0m\n\u001b[0m\u001b[1;32m    896\u001b[0m             \u001b[0;32mexcept\u001b[0m \u001b[0mException\u001b[0m \u001b[0;32mas\u001b[0m \u001b[0me\u001b[0m\u001b[0;34m:\u001b[0m\u001b[0;34m\u001b[0m\u001b[0;34m\u001b[0m\u001b[0m\n\u001b[1;32m    897\u001b[0m                 \u001b[0mself\u001b[0m\u001b[0;34m.\u001b[0m\u001b[0mlog\u001b[0m\u001b[0;34m.\u001b[0m\u001b[0mwarning\u001b[0m\u001b[0;34m(\u001b[0m\u001b[0;34m\"Invalid Message:\"\u001b[0m\u001b[0;34m,\u001b[0m \u001b[0mexc_info\u001b[0m\u001b[0;34m=\u001b[0m\u001b[0;32mTrue\u001b[0m\u001b[0;34m)\u001b[0m\u001b[0;34m\u001b[0m\u001b[0;34m\u001b[0m\u001b[0m\n",
            "\u001b[0;31mKeyboardInterrupt\u001b[0m: Interrupted by user"
          ]
        }
      ],
      "source": [
        "words = list(input(\"Enter comma seperated words: \").split(','))\n",
        "words.sort() \n",
        "print(','.join(words))"
      ]
    },
    {
      "cell_type": "markdown",
      "id": "171c3d90",
      "metadata": {
        "id": "171c3d90"
      },
      "source": [
        "### 4. Write a program that accepts a sequence of whitespace separated words as input and prints the words after removing all duplicate words and sorting them alphanumerically."
      ]
    },
    {
      "cell_type": "code",
      "execution_count": null,
      "id": "6f0b4beb",
      "metadata": {
        "id": "6f0b4beb",
        "outputId": "cb970bc8-2e69-488d-98c9-7bfd2d899bb9"
      },
      "outputs": [
        {
          "name": "stdout",
          "output_type": "stream",
          "text": [
            "Enter comma seperated words: hello world and practice makes perfect and hello world again\n",
            "again and hello makes perfect practice world\n"
          ]
        }
      ],
      "source": [
        "words = list(set(input(\"Enter comma seperated words: \").split(' ')))\n",
        "words.sort() \n",
        "print(' '.join(words))"
      ]
    },
    {
      "cell_type": "markdown",
      "id": "88d25c49",
      "metadata": {
        "id": "88d25c49"
      },
      "source": [
        "### 5. Write a program that accepts a sentence and calculate the number of letters and digits."
      ]
    },
    {
      "cell_type": "code",
      "execution_count": 5,
      "id": "9af8334f",
      "metadata": {
        "id": "9af8334f",
        "outputId": "299d5ea8-d806-4b1a-e512-8e41abcad150",
        "colab": {
          "base_uri": "https://localhost:8080/"
        }
      },
      "outputs": [
        {
          "output_type": "stream",
          "name": "stdout",
          "text": [
            "Enter a sentence: sdfgb dfg 3456 \n",
            " number of letter 8\n",
            "number of digits 4\n"
          ]
        }
      ],
      "source": [
        "words = input(\"Enter a sentence: \")\n",
        "letters = 0\n",
        "digits = 0\n",
        "for c in words:\n",
        "    if (ord(c) >= ord('a') and ord(c) <= ord('z')) or (ord(c) >= ord('A') and ord(c) <= ord('Z')):\n",
        "        letters += 1\n",
        "    elif ord(c) >= ord('0') and ord(c) <= ord('9'):\n",
        "        digits += 1\n",
        "print(f\" number of letter {letters}\")\n",
        "print(f\"number of digits {digits}\")"
      ]
    },
    {
      "cell_type": "markdown",
      "id": "9695c4ca",
      "metadata": {
        "id": "9695c4ca"
      },
      "source": [
        "### 6. A website requires the users to input username and password to register. Write a program to check the validity of password input by users."
      ]
    },
    {
      "cell_type": "code",
      "execution_count": null,
      "id": "b7e80d04",
      "metadata": {
        "id": "b7e80d04",
        "outputId": "8e27ddfa-fd07-493a-cd2a-8d8cec8a3c2a"
      },
      "outputs": [
        {
          "name": "stdout",
          "output_type": "stream",
          "text": [
            "Enter comma seperated passwords: ABd1234@1,a F1#,2w3E*,2We3345, EKd9876@1,a F1#,2w3E*,2We3345\n",
            " EKd9876@1,ABd1234@1\n"
          ]
        }
      ],
      "source": [
        "def check_smallcase(password):\n",
        "    check = False\n",
        "    for p in password:\n",
        "        if ord(p) >= ord('a') and ord(p) <= ord('z'):\n",
        "            check = True\n",
        "            break\n",
        "    return check\n",
        "\n",
        "def check_uppercase(password):\n",
        "    check = False\n",
        "    for p in password:\n",
        "        if ord(p) >= ord('A') and ord(p) <= ord('Z'):\n",
        "            check = True\n",
        "            break\n",
        "    return check\n",
        "\n",
        "def check_digit(password):\n",
        "    check = False\n",
        "    for p in password:\n",
        "        if ord(p) >= ord('1') and ord(p) <= ord('9'):\n",
        "            check = True\n",
        "            break\n",
        "    return check\n",
        "\n",
        "def check_specialchars(password):\n",
        "    check = False\n",
        "    specials = \"!@#$%^&*()_+=->;,:/?`\"\n",
        "    for p in password:\n",
        "        if p in specials:\n",
        "            check = True\n",
        "            break\n",
        "    return check\n",
        "\n",
        "def check_minlength(password):\n",
        "    return len(password) >= 6\n",
        "\n",
        "def check_maxlength(password):\n",
        "    return len(password) <= 12\n",
        "\n",
        "passwords = list(set(input(\"Enter comma seperated passwords: \").split(',')))\n",
        "valid_passwords = []\n",
        "for password in passwords:\n",
        "    if check_smallcase(password) and check_uppercase(password) and check_digit(password) and check_specialchars(password) and check_minlength(password) and check_maxlength(password):\n",
        "        valid_passwords.append(password)\n",
        "print(','.join(valid_passwords))"
      ]
    },
    {
      "cell_type": "code",
      "execution_count": null,
      "id": "7f49c3ae",
      "metadata": {
        "id": "7f49c3ae"
      },
      "outputs": [],
      "source": []
    }
  ],
  "metadata": {
    "kernelspec": {
      "display_name": "Python 3 (ipykernel)",
      "language": "python",
      "name": "python3"
    },
    "language_info": {
      "codemirror_mode": {
        "name": "ipython",
        "version": 3
      },
      "file_extension": ".py",
      "mimetype": "text/x-python",
      "name": "python",
      "nbconvert_exporter": "python",
      "pygments_lexer": "ipython3",
      "version": "3.9.7"
    },
    "colab": {
      "provenance": []
    }
  },
  "nbformat": 4,
  "nbformat_minor": 5
}