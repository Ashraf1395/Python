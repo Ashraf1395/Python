{
  "cells": [
    {
      "cell_type": "markdown",
      "id": "9b304197",
      "metadata": {
        "id": "9b304197"
      },
      "source": [
        "# Python Basic Programming Assignment 8"
      ]
    },
    {
      "cell_type": "markdown",
      "id": "22789ae6",
      "metadata": {
        "id": "22789ae6"
      },
      "source": [
        "-------------\n",
        "### 1. Write a Python Program to Add Two Matrices?\n"
      ]
    },
    {
      "cell_type": "code",
      "execution_count": 11,
      "id": "f26dd3f3",
      "metadata": {
        "id": "f26dd3f3"
      },
      "outputs": [],
      "source": [
        "mat1 = [[1,2,3],\n",
        "        [6, -4, -9],\n",
        "        [3,6,9]]\n",
        "\n",
        "mat2 = [[6,9,3],\n",
        "        [1,-1,1],\n",
        "        [0, 9, 11]]"
      ]
    },
    {
      "cell_type": "code",
      "execution_count": 12,
      "id": "dbb4e4ba",
      "metadata": {
        "id": "dbb4e4ba",
        "outputId": "b050fd3e-17b2-47b4-d109-aa6bb9e0c715",
        "colab": {
          "base_uri": "https://localhost:8080/"
        }
      },
      "outputs": [
        {
          "output_type": "execute_result",
          "data": {
            "text/plain": [
              "[[7, 11, 6], [7, -5, -8], [3, 15, 20]]"
            ]
          },
          "metadata": {},
          "execution_count": 12
        }
      ],
      "source": [
        "result = []\n",
        "\n",
        "for i in range(len(mat1)):\n",
        "    row = []\n",
        "    for j in range(len(mat1[0])):\n",
        "        row.append(mat1[i][j]+mat2[i][j])\n",
        "        \n",
        "    result.append(row)\n",
        "    \n",
        "result"
      ]
    },
    {
      "cell_type": "markdown",
      "id": "044ceda6",
      "metadata": {
        "id": "044ceda6"
      },
      "source": [
        "-------------\n",
        "### 2. Write a Python Program to Multiply Two Matrices?"
      ]
    },
    {
      "cell_type": "code",
      "execution_count": 3,
      "id": "334d6268",
      "metadata": {
        "id": "334d6268",
        "outputId": "c91e4249-868c-4927-fec9-66a783ad9c63",
        "colab": {
          "base_uri": "https://localhost:8080/"
        }
      },
      "outputs": [
        {
          "output_type": "stream",
          "name": "stdout",
          "text": [
            "[114, 160, 60, 27]\n",
            "[74, 97, 73, 14]\n",
            "[119, 157, 112, 23]\n"
          ]
        }
      ],
      "source": [
        "# Take 3x3 matrix\n",
        "A = [[12, 7, 3],\n",
        "    [4, 5, 6],\n",
        "    [7, 8, 9]]\n",
        "\n",
        "B = [[5, 8, 1, 2],\n",
        "    [6, 7, 3, 0],\n",
        "    [4, 5, 9, 1]]\n",
        "\n",
        "result = [[0, 0, 0, 0],\n",
        "        [0, 0, 0, 0],\n",
        "        [0, 0, 0, 0]]\n",
        "\n",
        "for i in range(len(A)):\n",
        "    for j in range(len(B[0])):\n",
        "        for k in range(len(B)):\n",
        "            result[i][j] += A[i][k] * B[k][j]\n",
        "\n",
        "for r in result:\n",
        "    print(r)\n"
      ]
    },
    {
      "cell_type": "markdown",
      "id": "5f688e46",
      "metadata": {
        "id": "5f688e46"
      },
      "source": [
        "-------------\n",
        "### 3. Write a Python Program to Transpose a Matrix?"
      ]
    },
    {
      "cell_type": "code",
      "execution_count": 4,
      "id": "a6af3f54",
      "metadata": {
        "id": "a6af3f54",
        "outputId": "9b595935-74c3-4356-b640-772621a7f289",
        "colab": {
          "base_uri": "https://localhost:8080/"
        }
      },
      "outputs": [
        {
          "output_type": "stream",
          "name": "stdout",
          "text": [
            "[12, 4, 3]\n",
            "[7, 5, 8]\n"
          ]
        }
      ],
      "source": [
        "# Program to transpose a matrix using a nested loop\n",
        "\n",
        "X = [[12,7],\n",
        "    [4 ,5],\n",
        "    [3 ,8]]\n",
        "\n",
        "result = [[0,0,0],\n",
        "         [0,0,0]]\n",
        "\n",
        "for i in range(len(X)):\n",
        "   for j in range(len(X[0])):\n",
        "        result[j][i] = X[i][j]\n",
        "\n",
        "for r in result:\n",
        "    print(r)\n"
      ]
    },
    {
      "cell_type": "markdown",
      "id": "b2849025",
      "metadata": {
        "id": "b2849025"
      },
      "source": [
        "------------------\n",
        "### 4. Write a Python Program to Sort Words in Alphabetic Order?\n"
      ]
    },
    {
      "cell_type": "code",
      "execution_count": 6,
      "id": "c030bfb6",
      "metadata": {
        "id": "c030bfb6",
        "outputId": "e8413d12-a7b0-48d0-e3f2-9d484701f805",
        "colab": {
          "base_uri": "https://localhost:8080/"
        }
      },
      "outputs": [
        {
          "output_type": "stream",
          "name": "stdout",
          "text": [
            "Enter the words: A for apple B for Ball\n",
            "Sorted order of words:\n",
            "a apple b ball for for "
          ]
        }
      ],
      "source": [
        "sentence = input(\"Enter the words: \")\n",
        "words = [word.lower() for word in sentence.split()]\n",
        "words.sort()\n",
        "    \n",
        "print(\"Sorted order of words:\")\n",
        "for word in words:\n",
        "  print(word, end = ' ')"
      ]
    },
    {
      "cell_type": "markdown",
      "id": "48ac7b24",
      "metadata": {
        "id": "48ac7b24"
      },
      "source": [
        "-----------------\n",
        "### 5. Write a Python Program to Remove Punctuation From a String?"
      ]
    },
    {
      "cell_type": "code",
      "execution_count": 10,
      "id": "6c7b2c63",
      "metadata": {
        "id": "6c7b2c63",
        "outputId": "6e9ddc0d-58d9-4416-b05e-3222e8a321e6",
        "colab": {
          "base_uri": "https://localhost:8080/"
        }
      },
      "outputs": [
        {
          "output_type": "stream",
          "name": "stdout",
          "text": [
            "Enter the string: DE#$%^&UIKJHGFGNM<>?\":LKUYTD\n",
            "DEUIKJHGFGNMLKUYTD\n"
          ]
        }
      ],
      "source": [
        "punctuations = '''@#$%^;:'\"\\,<>./?&*_~!()-[]{}'''\n",
        "\n",
        "string = input(\"Enter the string: \")\n",
        "\n",
        "output = \"\"\n",
        "\n",
        "for char in string:\n",
        "    if char not in punctuations:\n",
        "        output += char\n",
        "        \n",
        "print(output)"
      ]
    }
  ],
  "metadata": {
    "kernelspec": {
      "display_name": "Python 3 (ipykernel)",
      "language": "python",
      "name": "python3"
    },
    "language_info": {
      "codemirror_mode": {
        "name": "ipython",
        "version": 3
      },
      "file_extension": ".py",
      "mimetype": "text/x-python",
      "name": "python",
      "nbconvert_exporter": "python",
      "pygments_lexer": "ipython3",
      "version": "3.9.7"
    },
    "colab": {
      "provenance": []
    }
  },
  "nbformat": 4,
  "nbformat_minor": 5
}