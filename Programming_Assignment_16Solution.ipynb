{
  "cells": [
    {
      "cell_type": "markdown",
      "id": "e304dc88",
      "metadata": {
        "id": "e304dc88"
      },
      "source": [
        "## Python Basic Programming Assignment 16\n",
        "---------------------"
      ]
    },
    {
      "cell_type": "markdown",
      "id": "d82eeee0",
      "metadata": {
        "id": "d82eeee0"
      },
      "source": [
        "### 1. Write a function that stutters a word as if someone is struggling to read it. The first two letters are repeated twice with an ellipsis ... and space after each, and then the word is pronounced with a question mark ?. Examples stutter('incredible') ➞ 'in... in... incredible?' stutter('enthusiastic') ➞ 'en... en... enthusiastic?' stutter('outstanding') ➞ 'ou... ou... outstanding?'\n",
        "\n",
        "### Hint :- Assume all input is in lower case and at least two characters long."
      ]
    },
    {
      "cell_type": "code",
      "execution_count": 1,
      "id": "8633a7b5",
      "metadata": {
        "id": "8633a7b5",
        "outputId": "97bb2f7b-b634-4205-89ff-8bd77d440685",
        "colab": {
          "base_uri": "https://localhost:8080/"
        }
      },
      "outputs": [
        {
          "output_type": "stream",
          "name": "stdout",
          "text": [
            "in... in... incredible?\n",
            "en... en... enthusiastic?\n",
            "ou... ou... outstanding?\n"
          ]
        }
      ],
      "source": [
        "def stutter(word:str):\n",
        "    print(f\"{word[:2]}... {word[:2]}... {word}?\")\n",
        "    \n",
        "stutter('incredible') \n",
        "stutter('enthusiastic') \n",
        "stutter('outstanding') "
      ]
    },
    {
      "cell_type": "markdown",
      "id": "47e1bd41",
      "metadata": {
        "id": "47e1bd41"
      },
      "source": [
        "--------------------\n",
        "### 2. Create a function that takes an angle in radians and returns the corresponding angle in degrees rounded to one decimal place."
      ]
    },
    {
      "cell_type": "code",
      "execution_count": 2,
      "id": "187ccb58",
      "metadata": {
        "id": "187ccb58",
        "outputId": "7bbae601-bda4-4e8b-8c97-b15990a51445",
        "colab": {
          "base_uri": "https://localhost:8080/"
        }
      },
      "outputs": [
        {
          "output_type": "stream",
          "name": "stdout",
          "text": [
            "1145.9\n"
          ]
        }
      ],
      "source": [
        "def radians_to_degrees(rads):\n",
        "    return round(57.295 * rads, 1)\n",
        "\n",
        "print(radians_to_degrees(20))"
      ]
    },
    {
      "cell_type": "markdown",
      "id": "07cad4d9",
      "metadata": {
        "id": "07cad4d9"
      },
      "source": [
        "---------------\n",
        "### 3. In this challenge, establish if a given integer num is a Curzon number. If 1 plus 2 elevated to num is exactly divisible by 1 plus 2 multiplied by num, then num is a Curzon number. Given a non-negative integer num, implement a function that returns True if num is a Curzon number, or False otherwise."
      ]
    },
    {
      "cell_type": "code",
      "execution_count": 3,
      "id": "99788170",
      "metadata": {
        "id": "99788170",
        "outputId": "325538fb-c5c9-4df5-fc5f-d350157f78dc",
        "colab": {
          "base_uri": "https://localhost:8080/"
        }
      },
      "outputs": [
        {
          "output_type": "stream",
          "name": "stdout",
          "text": [
            "True\n",
            "False\n",
            "True\n"
          ]
        }
      ],
      "source": [
        "def is_curzon(n):\n",
        "    \n",
        "    if (1 + 2 ** n) % (1 + 2*n) == 0:\n",
        "        return True\n",
        "    \n",
        "    return False\n",
        "\n",
        "print(is_curzon(5)) # True\n",
        "print(is_curzon(10)) # False\n",
        "print(is_curzon(14)) # True"
      ]
    },
    {
      "cell_type": "markdown",
      "id": "cfad2cfc",
      "metadata": {
        "id": "cfad2cfc"
      },
      "source": [
        "--------\n",
        "### 4. Given the side length x find the area of a hexagon."
      ]
    },
    {
      "cell_type": "code",
      "execution_count": 4,
      "id": "1bfe06dd",
      "metadata": {
        "id": "1bfe06dd",
        "outputId": "b60fea9a-f82d-47ac-934c-a545a01a8379",
        "colab": {
          "base_uri": "https://localhost:8080/"
        }
      },
      "outputs": [
        {
          "output_type": "stream",
          "name": "stdout",
          "text": [
            "2.6\n",
            "10.4\n",
            "23.4\n"
          ]
        }
      ],
      "source": [
        "import math\n",
        "\n",
        "def area_of_hexagon(length):\n",
        "    area =  3 * math.sqrt(3) * 0.5 * length * length\n",
        "    return round(area, 1)\n",
        "\n",
        "print(area_of_hexagon(1))\n",
        "print(area_of_hexagon(2))\n",
        "print(area_of_hexagon(3))"
      ]
    },
    {
      "cell_type": "markdown",
      "id": "dbc79e02",
      "metadata": {
        "id": "dbc79e02"
      },
      "source": [
        "-------------\n",
        "### 5. Create a function that returns a base-2 (binary) representation of a base-10 (decimal) string number. To convert is simple: ((2) means base-2 and (10) means base-10) 010101001(2) = 1 + 8 + 32 + 128."
      ]
    },
    {
      "cell_type": "code",
      "execution_count": 11,
      "id": "197946a8",
      "metadata": {
        "id": "197946a8",
        "outputId": "fde8b389-4cd9-4d4b-8e28-7dee2523a5c8",
        "colab": {
          "base_uri": "https://localhost:8080/"
        }
      },
      "outputs": [
        {
          "output_type": "stream",
          "name": "stdout",
          "text": [
            "1\n",
            "101\n",
            "1010\n"
          ]
        }
      ],
      "source": [
        "def binary(n):\n",
        "    return \"{0:b}\".format(int(n))\n",
        "\n",
        "print(binary(1))\n",
        "print(binary(5))\n",
        "print(binary(10))"
      ]
    },
    {
      "cell_type": "code",
      "execution_count": null,
      "id": "88624c40",
      "metadata": {
        "id": "88624c40"
      },
      "outputs": [],
      "source": []
    }
  ],
  "metadata": {
    "kernelspec": {
      "display_name": "Python 3 (ipykernel)",
      "language": "python",
      "name": "python3"
    },
    "language_info": {
      "codemirror_mode": {
        "name": "ipython",
        "version": 3
      },
      "file_extension": ".py",
      "mimetype": "text/x-python",
      "name": "python",
      "nbconvert_exporter": "python",
      "pygments_lexer": "ipython3",
      "version": "3.9.7"
    },
    "colab": {
      "provenance": []
    }
  },
  "nbformat": 4,
  "nbformat_minor": 5
}