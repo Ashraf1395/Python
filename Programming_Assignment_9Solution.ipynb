{
  "cells": [
    {
      "cell_type": "markdown",
      "id": "47b9bb99",
      "metadata": {
        "id": "47b9bb99"
      },
      "source": [
        "## Programming Assignment_9\n",
        "----------------"
      ]
    },
    {
      "cell_type": "markdown",
      "id": "c725f7a9",
      "metadata": {
        "id": "c725f7a9"
      },
      "source": [
        "### 1. Write a Python program to check if the given number is a Disarium Number?\n",
        "##### ans:"
      ]
    },
    {
      "cell_type": "code",
      "execution_count": 3,
      "id": "00495e5f",
      "metadata": {
        "id": "00495e5f"
      },
      "outputs": [],
      "source": [
        "def disarium(num):            \n",
        "        num = str(num)\n",
        "        total = 0\n",
        "        for i in range(len(num)):\n",
        "            n = int(num[i])\n",
        "            n = n**(i+1)\n",
        "            total+= n\n",
        "\n",
        "        return True if total==int(num) else False    \n",
        "\n",
        "        "
      ]
    },
    {
      "cell_type": "code",
      "execution_count": 4,
      "id": "66cea9d7",
      "metadata": {
        "id": "66cea9d7",
        "outputId": "8ded65bb-3607-402d-bcf5-7cf3d0becc39",
        "colab": {
          "base_uri": "https://localhost:8080/"
        }
      },
      "outputs": [
        {
          "output_type": "execute_result",
          "data": {
            "text/plain": [
              "False"
            ]
          },
          "metadata": {},
          "execution_count": 4
        }
      ],
      "source": [
        "disarium(147)"
      ]
    },
    {
      "cell_type": "code",
      "execution_count": 5,
      "id": "eb99b411",
      "metadata": {
        "id": "eb99b411",
        "outputId": "5e08ac89-d642-42f2-e26a-6741ae5b5ad7",
        "colab": {
          "base_uri": "https://localhost:8080/"
        }
      },
      "outputs": [
        {
          "output_type": "execute_result",
          "data": {
            "text/plain": [
              "True"
            ]
          },
          "metadata": {},
          "execution_count": 5
        }
      ],
      "source": [
        "disarium(135)"
      ]
    },
    {
      "cell_type": "markdown",
      "id": "f0064401",
      "metadata": {
        "id": "f0064401"
      },
      "source": [
        "---------------------------\n",
        "### 2. Write a Python program to print all disarium numbers between 1 to 100?\n",
        "##### ans:"
      ]
    },
    {
      "cell_type": "code",
      "execution_count": 6,
      "id": "78e6ba38",
      "metadata": {
        "id": "78e6ba38",
        "outputId": "76b9a28e-5525-4d97-f474-570f57a9f51e",
        "colab": {
          "base_uri": "https://localhost:8080/"
        }
      },
      "outputs": [
        {
          "output_type": "stream",
          "name": "stdout",
          "text": [
            "1 2 3 4 5 6 7 8 9 89 "
          ]
        }
      ],
      "source": [
        "for i in range(1, 101):\n",
        "    if disarium(i) == True:\n",
        "        print(i, end = ' ')"
      ]
    },
    {
      "cell_type": "markdown",
      "id": "31df1e4a",
      "metadata": {
        "id": "31df1e4a"
      },
      "source": [
        "---------------------------\n",
        "### 3. Write a Python program to check if the given number is Happy Number?\n",
        "##### ans:"
      ]
    },
    {
      "cell_type": "code",
      "execution_count": 7,
      "id": "c274693d",
      "metadata": {
        "id": "c274693d"
      },
      "outputs": [],
      "source": [
        "def happy(num):\n",
        "\n",
        "    res = num; \n",
        "    def isHappy(num):    \n",
        "        r = 0;  \n",
        "        s = 0\n",
        "        while(num > 0):    \n",
        "            r = num%10    \n",
        "            s += r**2  \n",
        "            num //= 10    \n",
        "        return s     \n",
        "\n",
        "    while(res != 1 and res != 4):    \n",
        "        res = isHappy(res)    \n",
        "\n",
        "    if(res == 1):    \n",
        "        return True\n",
        "    elif(res == 4):    \n",
        "        return False"
      ]
    },
    {
      "cell_type": "code",
      "execution_count": 11,
      "id": "ccd2f0ac",
      "metadata": {
        "id": "ccd2f0ac",
        "outputId": "50bd5d88-e638-4f35-91a5-d9372c2d4bfc",
        "colab": {
          "base_uri": "https://localhost:8080/"
        }
      },
      "outputs": [
        {
          "output_type": "execute_result",
          "data": {
            "text/plain": [
              "True"
            ]
          },
          "metadata": {},
          "execution_count": 11
        }
      ],
      "source": [
        "happy(23)"
      ]
    },
    {
      "cell_type": "markdown",
      "id": "51b265e3",
      "metadata": {
        "id": "51b265e3"
      },
      "source": [
        "---------------------------\n",
        "### 4. Write a Python program to print all happy numbers between 1 and 100?\n",
        "##### ans:"
      ]
    },
    {
      "cell_type": "code",
      "execution_count": 12,
      "id": "dd776994",
      "metadata": {
        "id": "dd776994",
        "outputId": "9d4e0764-f138-41ee-8416-2e83856888cc",
        "colab": {
          "base_uri": "https://localhost:8080/"
        }
      },
      "outputs": [
        {
          "output_type": "stream",
          "name": "stdout",
          "text": [
            "1 7 10 13 19 23 28 31 32 44 49 68 70 79 82 86 91 94 97 100 "
          ]
        }
      ],
      "source": [
        "for i in range(1, 101):\n",
        "    if happy(i) == True:\n",
        "        print(i, end = ' ')"
      ]
    },
    {
      "cell_type": "markdown",
      "id": "6a190ee0",
      "metadata": {
        "id": "6a190ee0"
      },
      "source": [
        "---------------------------\n",
        "### 5. Write a Python program to determine whether the given number is a Harshad Number?\n",
        "##### ans:"
      ]
    },
    {
      "cell_type": "code",
      "execution_count": 13,
      "id": "9a8d5472",
      "metadata": {
        "id": "9a8d5472"
      },
      "outputs": [],
      "source": [
        "def harshad(num):\n",
        "    temp = num\n",
        "    total = 0\n",
        "    while (temp > 0):\n",
        "        total = total + (temp%10)\n",
        "        temp = temp//10\n",
        "        \n",
        "    if num%total==0:\n",
        "        print(\"Harshad Number\")\n",
        "    else:\n",
        "        print(\"It is not Harshad Number\")"
      ]
    },
    {
      "cell_type": "code",
      "execution_count": 14,
      "id": "41926598",
      "metadata": {
        "id": "41926598",
        "outputId": "43bbf936-3bf0-427c-c14b-9dd2c899a6fb",
        "colab": {
          "base_uri": "https://localhost:8080/"
        }
      },
      "outputs": [
        {
          "output_type": "stream",
          "name": "stdout",
          "text": [
            "Harshad Number\n"
          ]
        }
      ],
      "source": [
        "harshad(156)"
      ]
    },
    {
      "cell_type": "markdown",
      "id": "7a7ea92e",
      "metadata": {
        "id": "7a7ea92e"
      },
      "source": [
        "---------------------------\n",
        "### 6. Write a Python program to print all pronic numbers between 1 and 100?\n",
        "##### ans:"
      ]
    },
    {
      "cell_type": "code",
      "execution_count": 17,
      "id": "936ca4b3",
      "metadata": {
        "id": "936ca4b3",
        "outputId": "de4e85f2-4a7a-4896-9be4-61444b5bcb18",
        "colab": {
          "base_uri": "https://localhost:8080/"
        }
      },
      "outputs": [
        {
          "output_type": "stream",
          "name": "stdout",
          "text": [
            "0 2 6 12 20 30 42 56 72 90 "
          ]
        }
      ],
      "source": [
        "\n",
        "for i in range(101):\n",
        "    pronicNum = i*(i+1)\n",
        "    if pronicNum > 100:\n",
        "        break\n",
        "    print(pronicNum, end = ' ')\n",
        "    "
      ]
    }
  ],
  "metadata": {
    "kernelspec": {
      "display_name": "Python 3 (ipykernel)",
      "language": "python",
      "name": "python3"
    },
    "language_info": {
      "codemirror_mode": {
        "name": "ipython",
        "version": 3
      },
      "file_extension": ".py",
      "mimetype": "text/x-python",
      "name": "python",
      "nbconvert_exporter": "python",
      "pygments_lexer": "ipython3",
      "version": "3.9.7"
    },
    "colab": {
      "provenance": []
    }
  },
  "nbformat": 4,
  "nbformat_minor": 5
}