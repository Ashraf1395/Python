{
  "cells": [
    {
      "cell_type": "markdown",
      "id": "7df6e6a0",
      "metadata": {
        "id": "7df6e6a0"
      },
      "source": [
        "## Python Basic Programming Assignment - 15\n",
        "-------------------"
      ]
    },
    {
      "cell_type": "markdown",
      "id": "de299c62",
      "metadata": {
        "id": "de299c62"
      },
      "source": [
        "### 1. Please write a program using generator to print the numbers which can be divisible by 5 and 7 between 0 and n in comma separated form while n is input by console."
      ]
    },
    {
      "cell_type": "code",
      "execution_count": 1,
      "id": "a6c4d4fa",
      "metadata": {
        "id": "a6c4d4fa"
      },
      "outputs": [],
      "source": [
        "def generator(n):\n",
        "    \n",
        "    for i in range(n+1):\n",
        "        if i % 5 == 0 and i % 7 == 0:\n",
        "            yield str(i)+' '"
      ]
    },
    {
      "cell_type": "code",
      "execution_count": 2,
      "id": "1bac0017",
      "metadata": {
        "id": "1bac0017",
        "outputId": "968eba42-9f0e-4a39-d85d-d7e9a7f03b94",
        "colab": {
          "base_uri": "https://localhost:8080/"
        }
      },
      "outputs": [
        {
          "output_type": "execute_result",
          "data": {
            "text/plain": [
              "<generator object generator at 0x7fb060aa3510>"
            ]
          },
          "metadata": {},
          "execution_count": 2
        }
      ],
      "source": [
        "generator(100)"
      ]
    },
    {
      "cell_type": "code",
      "execution_count": null,
      "id": "afe2f6f5",
      "metadata": {
        "id": "afe2f6f5",
        "outputId": "b02baee2-ad3f-4444-bcfe-4ad32b5fb892"
      },
      "outputs": [
        {
          "name": "stdout",
          "output_type": "stream",
          "text": [
            "0 , 35 , 70 \n"
          ]
        }
      ],
      "source": [
        "print(', '.join([i for i in generator(100)]))"
      ]
    },
    {
      "cell_type": "markdown",
      "id": "c04aab80",
      "metadata": {
        "id": "c04aab80"
      },
      "source": [
        "--------------\n",
        "### 2. Please write a program using generator to print the even numbers between 0 and n in comma separated form while n is input by console."
      ]
    },
    {
      "cell_type": "code",
      "execution_count": 3,
      "id": "d6733e1e",
      "metadata": {
        "id": "d6733e1e"
      },
      "outputs": [],
      "source": [
        "def gen(n):\n",
        "\n",
        "    for i in range(n+1):\n",
        "        if i % 2 == 0:\n",
        "            yield str(i)"
      ]
    },
    {
      "cell_type": "code",
      "execution_count": 4,
      "id": "7b43651c",
      "metadata": {
        "id": "7b43651c",
        "outputId": "6d21e553-cd7c-45f4-9798-dc2da044d1fb",
        "colab": {
          "base_uri": "https://localhost:8080/"
        }
      },
      "outputs": [
        {
          "output_type": "stream",
          "name": "stdout",
          "text": [
            "0, 2, 4, 6, 8, 10\n"
          ]
        }
      ],
      "source": [
        "print(', '.join([i for i in gen(10)]))"
      ]
    },
    {
      "cell_type": "markdown",
      "id": "35b72559",
      "metadata": {
        "id": "35b72559"
      },
      "source": [
        "---------------\n",
        "### 3. Please write a program using list comprehension to print the Fibonacci Sequence in comma separated form with a given n input by console."
      ]
    },
    {
      "cell_type": "code",
      "execution_count": 5,
      "id": "1995d09b",
      "metadata": {
        "id": "1995d09b"
      },
      "outputs": [],
      "source": [
        "def fibo(n):\n",
        "    i = 0\n",
        "    j = 1\n",
        "    for k in range(n+1):\n",
        "        yield i\n",
        "        i,j = j, i+j"
      ]
    },
    {
      "cell_type": "code",
      "execution_count": 6,
      "id": "d776fc43",
      "metadata": {
        "id": "d776fc43",
        "outputId": "6686f572-0e48-4c2d-e47b-4d7307c6c4c1",
        "colab": {
          "base_uri": "https://localhost:8080/"
        }
      },
      "outputs": [
        {
          "output_type": "stream",
          "name": "stdout",
          "text": [
            "0,1,1,2,3,5,8,13\n"
          ]
        }
      ],
      "source": [
        "print(','.join([str(num) for num in fibo(7)]))\n"
      ]
    },
    {
      "cell_type": "markdown",
      "id": "dea0be0f",
      "metadata": {
        "id": "dea0be0f"
      },
      "source": [
        "----------------\n",
        "### 4. Assuming that we have some email addresses in the \"username@companyname.com\" format, please write program to print the user name of a given email address. Both user names and company names are composed of letters only."
      ]
    },
    {
      "cell_type": "code",
      "execution_count": 7,
      "id": "b1fa5aa4",
      "metadata": {
        "id": "b1fa5aa4"
      },
      "outputs": [],
      "source": [
        "def username(email: str):\n",
        "    return email.split('@')[0]"
      ]
    },
    {
      "cell_type": "code",
      "execution_count": 8,
      "id": "27ed8d0c",
      "metadata": {
        "id": "27ed8d0c",
        "outputId": "3942532a-c54e-43fa-b74e-5e5f41486f26",
        "colab": {
          "base_uri": "https://localhost:8080/",
          "height": 35
        }
      },
      "outputs": [
        {
          "output_type": "execute_result",
          "data": {
            "text/plain": [
              "'21f3001806'"
            ],
            "application/vnd.google.colaboratory.intrinsic+json": {
              "type": "string"
            }
          },
          "metadata": {},
          "execution_count": 8
        }
      ],
      "source": [
        "username('21f3001806@ds.study.iitm.ac.in')"
      ]
    },
    {
      "cell_type": "markdown",
      "id": "2834c88f",
      "metadata": {
        "id": "2834c88f"
      },
      "source": [
        "--------------------\n",
        "### 5. Define a class named Shape and its subclass Square. The Square class has an init function which takes a length as argument. Both classes have a area function which can print the area of the shape where Shape's area is 0 by default."
      ]
    },
    {
      "cell_type": "code",
      "execution_count": 10,
      "id": "a4b63b09",
      "metadata": {
        "id": "a4b63b09"
      },
      "outputs": [],
      "source": [
        "class Shape:\n",
        "    def __init__(self, length):\n",
        "        self.length = length\n",
        "    #default Constructor    \n",
        "    def area(self):\n",
        "        return 0\n",
        "#Inheritance    \n",
        "class Square(Shape):\n",
        "    def area(self):\n",
        "        return self.length*self.length"
      ]
    },
    {
      "cell_type": "code",
      "execution_count": 12,
      "id": "7c6fcfd2",
      "metadata": {
        "id": "7c6fcfd2",
        "outputId": "8b9e860f-1956-453c-a1b8-0db80a0cb9ff",
        "colab": {
          "base_uri": "https://localhost:8080/"
        }
      },
      "outputs": [
        {
          "output_type": "execute_result",
          "data": {
            "text/plain": [
              "0"
            ]
          },
          "metadata": {},
          "execution_count": 12
        }
      ],
      "source": [
        "shape_obj = Shape(10)\n",
        "\n",
        "shape_obj.area()"
      ]
    },
    {
      "cell_type": "code",
      "execution_count": 13,
      "id": "0de04f21",
      "metadata": {
        "id": "0de04f21",
        "outputId": "c025f672-57fd-41d9-bf8f-b5f76abe2de8",
        "colab": {
          "base_uri": "https://localhost:8080/"
        }
      },
      "outputs": [
        {
          "output_type": "execute_result",
          "data": {
            "text/plain": [
              "169"
            ]
          },
          "metadata": {},
          "execution_count": 13
        }
      ],
      "source": [
        "square_obj = Square(13)\n",
        "\n",
        "square_obj.area()"
      ]
    },
    {
      "cell_type": "code",
      "execution_count": null,
      "id": "5678c2b1",
      "metadata": {
        "id": "5678c2b1"
      },
      "outputs": [],
      "source": []
    }
  ],
  "metadata": {
    "kernelspec": {
      "display_name": "Python 3 (ipykernel)",
      "language": "python",
      "name": "python3"
    },
    "language_info": {
      "codemirror_mode": {
        "name": "ipython",
        "version": 3
      },
      "file_extension": ".py",
      "mimetype": "text/x-python",
      "name": "python",
      "nbconvert_exporter": "python",
      "pygments_lexer": "ipython3",
      "version": "3.9.7"
    },
    "colab": {
      "provenance": []
    }
  },
  "nbformat": 4,
  "nbformat_minor": 5
}